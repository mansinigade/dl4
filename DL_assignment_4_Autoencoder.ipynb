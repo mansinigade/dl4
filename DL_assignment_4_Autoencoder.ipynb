{
 "cells": [
  {
   "cell_type": "code",
   "execution_count": 2,
   "metadata": {},
   "outputs": [],
   "source": [
    "import numpy as np \n",
    "from keras.layers import Input, Dense \n",
    "from keras.models import Model\n",
    "from keras.datasets import mnist"
   ]
  },
  {
   "cell_type": "markdown",
   "metadata": {},
   "source": [
    "load and prepare the MNIST dataset"
   ]
  },
  {
   "cell_type": "code",
   "execution_count": 7,
   "metadata": {},
   "outputs": [],
   "source": [
    "# (x_train, _), (x_test, _) = mnist.load_data()"
   ]
  },
  {
   "cell_type": "code",
   "execution_count": 9,
   "metadata": {},
   "outputs": [],
   "source": [
    "data = np.load('mnist.npz')\n",
    "x_train = data['x_train']\n",
    "x_test = data['x_test']"
   ]
  },
  {
   "cell_type": "code",
   "execution_count": 10,
   "metadata": {},
   "outputs": [],
   "source": [
    "x_train = x_train.astype('float32') / 255.\n",
    "x_test = x_test.astype('float32') / 255.\n",
    "x_train = x_train.reshape((len(x_train), np.prod(x_train.shape[1:])))\n",
    "x_test = x_test.reshape((len(x_test), np.prod(x_test.shape[1:])))\n",
    "\n",
    "# build the autoencoder model\n",
    "input_img = Input(shape=(784,))\n",
    "encoded = Dense(32, activation='relu')(input_img) \n",
    "decoded = Dense(784, activation='sigmoid')(encoded)\n",
    "\n",
    "# build the encoder model\n",
    "encoded_input = Input(shape=(32,))\n",
    "encoder = Model(input_img, encoded)\n",
    "\n",
    "autoencoder = Model(input_img, decoded)\n",
    "\n",
    "decoder_layer = autoencoder.layers[-1]\n",
    "decoder = Model(encoded_input, decoder_layer(encoded_input))"
   ]
  },
  {
   "cell_type": "code",
   "execution_count": 11,
   "metadata": {},
   "outputs": [],
   "source": [
    "autoencoder.compile(optimizer='adam', loss='mse')"
   ]
  },
  {
   "cell_type": "code",
   "execution_count": 12,
   "metadata": {},
   "outputs": [
    {
     "name": "stdout",
     "output_type": "stream",
     "text": [
      "Epoch 1/50\n",
      "235/235 [==============================] - 1s 4ms/step - loss: 0.0693 - val_loss: 0.0407\n",
      "Epoch 2/50\n",
      "235/235 [==============================] - 1s 3ms/step - loss: 0.0350 - val_loss: 0.0296\n",
      "Epoch 3/50\n",
      "235/235 [==============================] - 1s 3ms/step - loss: 0.0267 - val_loss: 0.0233\n",
      "Epoch 4/50\n",
      "235/235 [==============================] - 1s 3ms/step - loss: 0.0215 - val_loss: 0.0191\n",
      "Epoch 5/50\n",
      "235/235 [==============================] - 1s 3ms/step - loss: 0.0181 - val_loss: 0.0164\n",
      "Epoch 6/50\n",
      "235/235 [==============================] - 1s 3ms/step - loss: 0.0159 - val_loss: 0.0146\n",
      "Epoch 7/50\n",
      "235/235 [==============================] - 1s 3ms/step - loss: 0.0143 - val_loss: 0.0132\n",
      "Epoch 8/50\n",
      "235/235 [==============================] - 1s 3ms/step - loss: 0.0131 - val_loss: 0.0123\n",
      "Epoch 9/50\n",
      "235/235 [==============================] - 1s 3ms/step - loss: 0.0123 - val_loss: 0.0116\n",
      "Epoch 10/50\n",
      "235/235 [==============================] - 1s 4ms/step - loss: 0.0117 - val_loss: 0.0111\n",
      "Epoch 11/50\n",
      "235/235 [==============================] - 1s 3ms/step - loss: 0.0113 - val_loss: 0.0108\n",
      "Epoch 12/50\n",
      "235/235 [==============================] - 1s 4ms/step - loss: 0.0110 - val_loss: 0.0105\n",
      "Epoch 13/50\n",
      "235/235 [==============================] - 1s 3ms/step - loss: 0.0108 - val_loss: 0.0104\n",
      "Epoch 14/50\n",
      "235/235 [==============================] - 1s 3ms/step - loss: 0.0107 - val_loss: 0.0103\n",
      "Epoch 15/50\n",
      "235/235 [==============================] - 1s 3ms/step - loss: 0.0106 - val_loss: 0.0102\n",
      "Epoch 16/50\n",
      "235/235 [==============================] - 1s 3ms/step - loss: 0.0105 - val_loss: 0.0101\n",
      "Epoch 17/50\n",
      "235/235 [==============================] - 1s 3ms/step - loss: 0.0104 - val_loss: 0.0100\n",
      "Epoch 18/50\n",
      "235/235 [==============================] - 1s 3ms/step - loss: 0.0104 - val_loss: 0.0100\n",
      "Epoch 19/50\n",
      "235/235 [==============================] - 1s 3ms/step - loss: 0.0103 - val_loss: 0.0100\n",
      "Epoch 20/50\n",
      "235/235 [==============================] - 1s 3ms/step - loss: 0.0103 - val_loss: 0.0099\n",
      "Epoch 21/50\n",
      "235/235 [==============================] - 1s 3ms/step - loss: 0.0102 - val_loss: 0.0099\n",
      "Epoch 22/50\n",
      "235/235 [==============================] - 1s 3ms/step - loss: 0.0102 - val_loss: 0.0099\n",
      "Epoch 23/50\n",
      "235/235 [==============================] - 1s 3ms/step - loss: 0.0102 - val_loss: 0.0098\n",
      "Epoch 24/50\n",
      "235/235 [==============================] - 1s 3ms/step - loss: 0.0102 - val_loss: 0.0098\n",
      "Epoch 25/50\n",
      "235/235 [==============================] - 1s 3ms/step - loss: 0.0101 - val_loss: 0.0098\n",
      "Epoch 26/50\n",
      "235/235 [==============================] - 1s 3ms/step - loss: 0.0101 - val_loss: 0.0098\n",
      "Epoch 27/50\n",
      "235/235 [==============================] - 1s 3ms/step - loss: 0.0101 - val_loss: 0.0098\n",
      "Epoch 28/50\n",
      "235/235 [==============================] - 1s 3ms/step - loss: 0.0101 - val_loss: 0.0098\n",
      "Epoch 29/50\n",
      "235/235 [==============================] - 1s 3ms/step - loss: 0.0101 - val_loss: 0.0098\n",
      "Epoch 30/50\n",
      "235/235 [==============================] - 1s 3ms/step - loss: 0.0101 - val_loss: 0.0097\n",
      "Epoch 31/50\n",
      "235/235 [==============================] - 1s 3ms/step - loss: 0.0101 - val_loss: 0.0097\n",
      "Epoch 32/50\n",
      "235/235 [==============================] - 1s 3ms/step - loss: 0.0100 - val_loss: 0.0097\n",
      "Epoch 33/50\n",
      "235/235 [==============================] - 1s 3ms/step - loss: 0.0100 - val_loss: 0.0097\n",
      "Epoch 34/50\n",
      "235/235 [==============================] - 1s 3ms/step - loss: 0.0100 - val_loss: 0.0097\n",
      "Epoch 35/50\n",
      "235/235 [==============================] - 1s 3ms/step - loss: 0.0100 - val_loss: 0.0097\n",
      "Epoch 36/50\n",
      "235/235 [==============================] - 1s 4ms/step - loss: 0.0100 - val_loss: 0.0097\n",
      "Epoch 37/50\n",
      "235/235 [==============================] - 1s 3ms/step - loss: 0.0100 - val_loss: 0.0097\n",
      "Epoch 38/50\n",
      "235/235 [==============================] - 1s 3ms/step - loss: 0.0100 - val_loss: 0.0097\n",
      "Epoch 39/50\n",
      "235/235 [==============================] - 1s 3ms/step - loss: 0.0100 - val_loss: 0.0097\n",
      "Epoch 40/50\n",
      "235/235 [==============================] - 1s 4ms/step - loss: 0.0100 - val_loss: 0.0097\n",
      "Epoch 41/50\n",
      "235/235 [==============================] - 1s 4ms/step - loss: 0.0100 - val_loss: 0.0097\n",
      "Epoch 42/50\n",
      "235/235 [==============================] - 1s 4ms/step - loss: 0.0100 - val_loss: 0.0097\n",
      "Epoch 43/50\n",
      "235/235 [==============================] - 1s 4ms/step - loss: 0.0100 - val_loss: 0.0097\n",
      "Epoch 44/50\n",
      "235/235 [==============================] - 1s 4ms/step - loss: 0.0100 - val_loss: 0.0097\n",
      "Epoch 45/50\n",
      "235/235 [==============================] - 1s 4ms/step - loss: 0.0099 - val_loss: 0.0096\n",
      "Epoch 46/50\n",
      "235/235 [==============================] - 1s 3ms/step - loss: 0.0099 - val_loss: 0.0097\n",
      "Epoch 47/50\n",
      "235/235 [==============================] - 1s 4ms/step - loss: 0.0099 - val_loss: 0.0096\n",
      "Epoch 48/50\n",
      "235/235 [==============================] - 1s 4ms/step - loss: 0.0099 - val_loss: 0.0096\n",
      "Epoch 49/50\n",
      "235/235 [==============================] - 1s 4ms/step - loss: 0.0099 - val_loss: 0.0096\n",
      "Epoch 50/50\n",
      "235/235 [==============================] - 1s 4ms/step - loss: 0.0099 - val_loss: 0.0096\n"
     ]
    }
   ],
   "source": [
    "history = autoencoder.fit(x_train, x_train,\n",
    "                epochs=50,\n",
    "                batch_size=256,\n",
    "                shuffle=True,\n",
    "                validation_data=(x_test, x_test))"
   ]
  },
  {
   "cell_type": "code",
   "execution_count": 13,
   "metadata": {},
   "outputs": [
    {
     "name": "stdout",
     "output_type": "stream",
     "text": [
      "313/313 [==============================] - 1s 2ms/step\n",
      "313/313 [==============================] - 0s 1ms/step\n"
     ]
    }
   ],
   "source": [
    "# use the encoder and decoder for inference\n",
    "encoded_imgs = encoder.predict(x_test) \n",
    "decoded_imgs = decoder.predict(encoded_imgs)"
   ]
  },
  {
   "cell_type": "code",
   "execution_count": 14,
   "metadata": {},
   "outputs": [
    {
     "data": {
      "image/png": "[encoded data removed]",
      "text/plain": [
       "<Figure size 1440x288 with 20 Axes>"
      ]
     },
     "metadata": {
      "needs_background": "light"
     },
     "output_type": "display_data"
    }
   ],
   "source": [
    "import matplotlib.pyplot as plt\n",
    "n = 10  # How many digits we will display\n",
    "plt.figure(figsize=(20, 4))\n",
    "for i in range(n):\n",
    "    # Display original\n",
    "    ax = plt.subplot(2, n, i + 1)\n",
    "    plt.imshow(x_test[i].reshape(28, 28))\n",
    "    plt.gray()\n",
    "    ax.get_xaxis().set_visible(False)\n",
    "    ax.get_yaxis().set_visible(False)\n",
    "    # Display reconstruction\n",
    "    ax = plt.subplot(2, n, i + 1 + n)\n",
    "    plt.imshow(decoded_imgs[i].reshape(28, 28))\n",
    "    plt.gray()\n",
    "    ax.get_xaxis().set_visible(False)\n",
    "    ax.get_yaxis().set_visible(False)\n",
    "plt.show()"
   ]
  },
  {
   "cell_type": "code",
   "execution_count": 15,
   "metadata": {},
   "outputs": [],
   "source": [
    "# calculate reconstruction error as anomaly score\n",
    "mse = np.mean(np.power(x_test - decoded_imgs, 2), axis=1)\n",
    "error_threshold = 2 * mse.mean() "
   ]
  },
  {
   "cell_type": "code",
   "execution_count": 16,
   "metadata": {},
   "outputs": [
    {
     "name": "stdout",
     "output_type": "stream",
     "text": [
      "Found 608 anomalies!\n"
     ]
    }
   ],
   "source": [
    "# detect anomalies\n",
    "anomalies = mse > error_threshold\n",
    "print(\"Found %d anomalies!\" % np.sum(anomalies))"
   ]
  },
  {
   "cell_type": "code",
   "execution_count": 17,
   "metadata": {},
   "outputs": [
    {
     "data": {
      "image/png": "[encoded data removed]",
      "text/plain": [
       "<Figure size 864x432 with 1 Axes>"
      ]
     },
     "metadata": {
      "needs_background": "light"
     },
     "output_type": "display_data"
    }
   ],
   "source": [
    "plt.figure(figsize=(12, 6))\n",
    "plt.plot(history.history['loss'], label='Training Loss')\n",
    "plt.plot(history.history['val_loss'], label='Validation Loss')\n",
    "plt.xlabel('Epochs')\n",
    "plt.ylabel('Loss')\n",
    "plt.legend()\n",
    "plt.show()"
   ]
  },
  {
   "cell_type": "code",
   "execution_count": null,
   "metadata": {},
   "outputs": [],
   "source": []
  },
  {
   "cell_type": "code",
   "execution_count": null,
   "metadata": {},
   "outputs": [],
   "source": []
  },
  {
   "cell_type": "code",
   "execution_count": null,
   "metadata": {},
   "outputs": [],
   "source": []
  }
 ],
 "metadata": {
  "kernelspec": {
   "display_name": "Python 3 (ipykernel)",
   "language": "python",
   "name": "python3"
  },
  "language_info": {
   "codemirror_mode": {
    "name": "ipython",
    "version": 3
   },
   "file_extension": ".py",
   "mimetype": "text/x-python",
   "name": "python",
   "nbconvert_exporter": "python",
   "pygments_lexer": "ipython3",
   "version": "3.9.7"
  }
 },
 "nbformat": 4,
 "nbformat_minor": 2
}
